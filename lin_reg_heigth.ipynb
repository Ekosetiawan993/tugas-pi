{
 "cells": [
  {
   "cell_type": "code",
   "execution_count": 1,
   "id": "2a19ba99",
   "metadata": {},
   "outputs": [],
   "source": [
    "import pandas as pd\n",
    "import numpy as np\n",
    "import matplotlib.pyplot as plt\n",
    "import seaborn as sns\n",
    "\n",
    "%matplotlib inline\n",
    "sns.set()"
   ]
  },
  {
   "cell_type": "code",
   "execution_count": 2,
   "id": "8202c150",
   "metadata": {},
   "outputs": [],
   "source": [
    "data = pd.read_csv('Abalone.csv')"
   ]
  },
  {
   "cell_type": "code",
   "execution_count": 3,
   "id": "04d5f405",
   "metadata": {},
   "outputs": [
    {
     "data": {
      "text/html": [
       "<div>\n",
       "<style scoped>\n",
       "    .dataframe tbody tr th:only-of-type {\n",
       "        vertical-align: middle;\n",
       "    }\n",
       "\n",
       "    .dataframe tbody tr th {\n",
       "        vertical-align: top;\n",
       "    }\n",
       "\n",
       "    .dataframe thead th {\n",
       "        text-align: right;\n",
       "    }\n",
       "</style>\n",
       "<table border=\"1\" class=\"dataframe\">\n",
       "  <thead>\n",
       "    <tr style=\"text-align: right;\">\n",
       "      <th></th>\n",
       "      <th>Length</th>\n",
       "      <th>Height</th>\n",
       "      <th>Whole_height</th>\n",
       "      <th>Age</th>\n",
       "    </tr>\n",
       "  </thead>\n",
       "  <tbody>\n",
       "    <tr>\n",
       "      <th>0</th>\n",
       "      <td>0.455</td>\n",
       "      <td>0.095</td>\n",
       "      <td>0.5140</td>\n",
       "      <td>16.5</td>\n",
       "    </tr>\n",
       "    <tr>\n",
       "      <th>1</th>\n",
       "      <td>0.350</td>\n",
       "      <td>0.090</td>\n",
       "      <td>0.2255</td>\n",
       "      <td>8.5</td>\n",
       "    </tr>\n",
       "    <tr>\n",
       "      <th>2</th>\n",
       "      <td>0.530</td>\n",
       "      <td>0.135</td>\n",
       "      <td>0.6770</td>\n",
       "      <td>10.5</td>\n",
       "    </tr>\n",
       "    <tr>\n",
       "      <th>3</th>\n",
       "      <td>0.440</td>\n",
       "      <td>0.125</td>\n",
       "      <td>0.5160</td>\n",
       "      <td>11.5</td>\n",
       "    </tr>\n",
       "    <tr>\n",
       "      <th>4</th>\n",
       "      <td>0.330</td>\n",
       "      <td>0.080</td>\n",
       "      <td>0.2050</td>\n",
       "      <td>8.5</td>\n",
       "    </tr>\n",
       "  </tbody>\n",
       "</table>\n",
       "</div>"
      ],
      "text/plain": [
       "   Length  Height  Whole_height   Age\n",
       "0   0.455   0.095        0.5140  16.5\n",
       "1   0.350   0.090        0.2255   8.5\n",
       "2   0.530   0.135        0.6770  10.5\n",
       "3   0.440   0.125        0.5160  11.5\n",
       "4   0.330   0.080        0.2050   8.5"
      ]
     },
     "execution_count": 3,
     "metadata": {},
     "output_type": "execute_result"
    }
   ],
   "source": [
    "data.head()"
   ]
  },
  {
   "cell_type": "code",
   "execution_count": 4,
   "id": "1c84b27c",
   "metadata": {},
   "outputs": [],
   "source": [
    "from sklearn.model_selection import train_test_split"
   ]
  },
  {
   "cell_type": "code",
   "execution_count": 13,
   "id": "b1df063b",
   "metadata": {},
   "outputs": [],
   "source": [
    "x = data.drop('Age', axis=1)\n",
    "y = data.Age.values.reshape(-1, 1)"
   ]
  },
  {
   "cell_type": "code",
   "execution_count": 14,
   "id": "3c64ebf1",
   "metadata": {},
   "outputs": [],
   "source": [
    "train_x, test_x, train_y, test_y = train_test_split(x, y, test_size=0.25, random_state=42)"
   ]
  },
  {
   "cell_type": "code",
   "execution_count": 15,
   "id": "2ea53191",
   "metadata": {},
   "outputs": [],
   "source": [
    "from sklearn.preprocessing import StandardScaler"
   ]
  },
  {
   "cell_type": "code",
   "execution_count": 16,
   "id": "6fa18451",
   "metadata": {},
   "outputs": [],
   "source": [
    "scl = StandardScaler()"
   ]
  },
  {
   "cell_type": "code",
   "execution_count": null,
   "id": "d4db2620",
   "metadata": {},
   "outputs": [],
   "source": []
  },
  {
   "cell_type": "code",
   "execution_count": 17,
   "id": "d834825f",
   "metadata": {},
   "outputs": [],
   "source": [
    "train_x_scl = scl.fit_transform(train_x)"
   ]
  },
  {
   "cell_type": "code",
   "execution_count": 18,
   "id": "65a934f5",
   "metadata": {},
   "outputs": [
    {
     "data": {
      "text/plain": [
       "array([[ 0.50137339,  0.27277904,  0.21395674],\n",
       "       [ 0.54336237,  0.4032712 ,  0.08346344],\n",
       "       [-1.80802061, -1.68460335, -1.38254722],\n",
       "       ...,\n",
       "       [-0.00249439, -0.24918959, -0.43035392],\n",
       "       [ 0.4593844 ,  0.01179472, -0.26927625],\n",
       "       [ 0.58535135,  0.53376336,  0.6268457 ]])"
      ]
     },
     "execution_count": 18,
     "metadata": {},
     "output_type": "execute_result"
    }
   ],
   "source": [
    "train_x_scl"
   ]
  },
  {
   "cell_type": "code",
   "execution_count": 19,
   "id": "1045ca2b",
   "metadata": {},
   "outputs": [],
   "source": [
    "test_x_scl = scl.transform(test_x)"
   ]
  },
  {
   "cell_type": "code",
   "execution_count": 20,
   "id": "2743595d",
   "metadata": {},
   "outputs": [
    {
     "data": {
      "text/plain": [
       "array([[-0.08647236, -0.11869744, -0.41506174],\n",
       "       [-0.17045032,  0.14228688, -0.37122414],\n",
       "       [-1.01022996, -0.90165039, -0.95946347],\n",
       "       ...,\n",
       "       [-1.76603163, -1.55411119, -1.33157327],\n",
       "       [-0.92625199, -0.51017391, -1.01349585],\n",
       "       [-0.59034014, -1.16263471, -0.65056136]])"
      ]
     },
     "execution_count": 20,
     "metadata": {},
     "output_type": "execute_result"
    }
   ],
   "source": [
    "test_x_scl"
   ]
  },
  {
   "cell_type": "code",
   "execution_count": 12,
   "id": "228f7811",
   "metadata": {},
   "outputs": [],
   "source": [
    "from sklearn.linear_model import LinearRegression"
   ]
  },
  {
   "cell_type": "code",
   "execution_count": 13,
   "id": "e1a40482",
   "metadata": {},
   "outputs": [],
   "source": [
    "lin_reg = LinearRegression()"
   ]
  },
  {
   "cell_type": "code",
   "execution_count": 15,
   "id": "1fd46fc8",
   "metadata": {},
   "outputs": [
    {
     "data": {
      "text/plain": [
       "LinearRegression()"
      ]
     },
     "execution_count": 15,
     "metadata": {},
     "output_type": "execute_result"
    }
   ],
   "source": [
    "lin_reg.fit(train_x_scl, train_y)"
   ]
  },
  {
   "cell_type": "code",
   "execution_count": 28,
   "id": "d9226f8b",
   "metadata": {},
   "outputs": [],
   "source": [
    "from sklearn.metrics import mean_squared_error"
   ]
  },
  {
   "cell_type": "code",
   "execution_count": 29,
   "id": "08ddc2d9",
   "metadata": {},
   "outputs": [],
   "source": [
    "def evaluation(model, model_name):\n",
    "    train_pred = model.predict(train_x_scl)\n",
    "    test_pred = model.predict(test_x_scl)\n",
    "    train_rmse = mean_squared_error(train_y, train_pred, squared=False)\n",
    "    test_rmse = mean_squared_error(test_y, test_pred, squared=False)\n",
    "    \n",
    "    print(f'Model: {model_name}')\n",
    "    print(f'Train RMSE    : {train_rmse}')\n",
    "    print(f'Test RMSE     : {test_rmse}')"
   ]
  },
  {
   "cell_type": "code",
   "execution_count": 54,
   "id": "f5127772",
   "metadata": {},
   "outputs": [
    {
     "name": "stdout",
     "output_type": "stream",
     "text": [
      "Model: Linear Regression\n",
      "Train RMSE    : 2.5678029408911955\n",
      "Test RMSE     : 2.520637095978111\n"
     ]
    }
   ],
   "source": [
    "evaluation(lin_reg, 'Linear Regression') # without normallization"
   ]
  },
  {
   "cell_type": "code",
   "execution_count": 21,
   "id": "8e0aa04a",
   "metadata": {},
   "outputs": [
    {
     "name": "stdout",
     "output_type": "stream",
     "text": [
      "Model: Linear Reg with Normalization\n",
      "Train RMSE    : 2.5678029408911955\n",
      "Test RMSE     : 2.520637095978111\n"
     ]
    }
   ],
   "source": [
    "evaluation(lin_reg, 'Linear Reg with Normalization')"
   ]
  },
  {
   "cell_type": "code",
   "execution_count": null,
   "id": "fde1eef9",
   "metadata": {},
   "outputs": [],
   "source": []
  },
  {
   "cell_type": "code",
   "execution_count": null,
   "id": "92318d9c",
   "metadata": {},
   "outputs": [],
   "source": []
  },
  {
   "cell_type": "markdown",
   "id": "9f316cee",
   "metadata": {},
   "source": [
    "### SVM Model"
   ]
  },
  {
   "cell_type": "code",
   "execution_count": 21,
   "id": "baf0c698",
   "metadata": {},
   "outputs": [],
   "source": [
    "from sklearn.svm import SVR"
   ]
  },
  {
   "cell_type": "code",
   "execution_count": 22,
   "id": "0ad6d78c",
   "metadata": {},
   "outputs": [],
   "source": [
    "svr = SVR()"
   ]
  },
  {
   "cell_type": "code",
   "execution_count": 27,
   "id": "e88344d7",
   "metadata": {},
   "outputs": [
    {
     "data": {
      "text/plain": [
       "SVR()"
      ]
     },
     "execution_count": 27,
     "metadata": {},
     "output_type": "execute_result"
    }
   ],
   "source": [
    "svr.fit(train_x_scl, train_y.ravel())"
   ]
  },
  {
   "cell_type": "code",
   "execution_count": 30,
   "id": "c3d11f28",
   "metadata": {},
   "outputs": [
    {
     "name": "stdout",
     "output_type": "stream",
     "text": [
      "Model: SVR\n",
      "Train RMSE    : 2.5787514464647225\n",
      "Test RMSE     : 2.5262214685874986\n"
     ]
    }
   ],
   "source": [
    "evaluation(svr, 'SVR')"
   ]
  },
  {
   "cell_type": "code",
   "execution_count": null,
   "id": "9c78c809",
   "metadata": {},
   "outputs": [],
   "source": []
  },
  {
   "cell_type": "code",
   "execution_count": 31,
   "id": "5a7362dc",
   "metadata": {},
   "outputs": [],
   "source": [
    "import lightgbm as lgb"
   ]
  },
  {
   "cell_type": "code",
   "execution_count": 32,
   "id": "b0e89e8a",
   "metadata": {},
   "outputs": [],
   "source": [
    "params = {\n",
    "    'learning_rate': '0.01'\n",
    "}"
   ]
  },
  {
   "cell_type": "code",
   "execution_count": 35,
   "id": "45e85592",
   "metadata": {},
   "outputs": [],
   "source": [
    "train_data = lgb.Dataset(train_x_scl, label=train_y.ravel())"
   ]
  },
  {
   "cell_type": "code",
   "execution_count": 40,
   "id": "6573dc10",
   "metadata": {},
   "outputs": [
    {
     "name": "stdout",
     "output_type": "stream",
     "text": [
      "[LightGBM] [Warning] Auto-choosing col-wise multi-threading, the overhead of testing was 0.000484 seconds.\n",
      "You can set `force_col_wise=true` to remove the overhead.\n",
      "[LightGBM] [Info] Total Bins 424\n",
      "[LightGBM] [Info] Number of data points in the train set: 3131, number of used features: 3\n",
      "[LightGBM] [Info] Start training from score 11.479559\n"
     ]
    }
   ],
   "source": [
    "lgb_reg = lgb.train(params, train_data, 100)"
   ]
  },
  {
   "cell_type": "code",
   "execution_count": 41,
   "id": "f66dbe34",
   "metadata": {},
   "outputs": [],
   "source": [
    "lgb_pred = lgb_reg.predict(test_x_scl)"
   ]
  },
  {
   "cell_type": "code",
   "execution_count": 43,
   "id": "4083a7d4",
   "metadata": {},
   "outputs": [
    {
     "name": "stdout",
     "output_type": "stream",
     "text": [
      "2.57945663942159\n"
     ]
    }
   ],
   "source": [
    "print(mean_squared_error(test_y, lgb_pred, squared=False))"
   ]
  },
  {
   "cell_type": "code",
   "execution_count": null,
   "id": "c6d0d7f1",
   "metadata": {},
   "outputs": [],
   "source": []
  },
  {
   "cell_type": "code",
   "execution_count": null,
   "id": "dae92712",
   "metadata": {},
   "outputs": [],
   "source": []
  }
 ],
 "metadata": {
  "kernelspec": {
   "display_name": "Python 3 (ipykernel)",
   "language": "python",
   "name": "python3"
  },
  "language_info": {
   "codemirror_mode": {
    "name": "ipython",
    "version": 3
   },
   "file_extension": ".py",
   "mimetype": "text/x-python",
   "name": "python",
   "nbconvert_exporter": "python",
   "pygments_lexer": "ipython3",
   "version": "3.8.3"
  }
 },
 "nbformat": 4,
 "nbformat_minor": 5
}
